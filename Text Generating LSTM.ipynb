{
 "cells": [
  {
   "cell_type": "code",
   "execution_count": 1,
   "id": "cabb62c8",
   "metadata": {},
   "outputs": [],
   "source": [
    "import torch\n",
    "import torch.nn as nn\n",
    "import string\n",
    "import random\n",
    "import os\n",
    "import io\n",
    "from torch.utils.tensorboard import SummaryWriter"
   ]
  },
  {
   "cell_type": "code",
   "execution_count": 2,
   "id": "c5dcf43f",
   "metadata": {
    "scrolled": false
   },
   "outputs": [],
   "source": [
    "device = torch.device(\"cuda\" if torch.cuda.is_available() else \"cpu\")\n",
    "\n",
    "all_characters = '&0123456789абвгдеёжзийклмнопрстуфхцчшщъыьэюяАБВГДЕЁЖЗИЙКЛМНОПРСТУФХЦЧШЩЪЫЬЭЮЯ' + string.printable[62:]\n",
    "n_characters = len(all_characters)\n",
    "\n",
    "root = r'data'\n",
    "files = []\n",
    "num_files = 38\n",
    "\n",
    "for i in range(num_files):\n",
    "    files.append(io.open(os.path.join(root, f'{i}.txt'), encoding='cp1251').read())\n",
    "\n",
    "case = {'—': '-', '…': '...', '«': '\"', '»': '\"', '́': ''}\n",
    "\n",
    "for i in range(num_files):\n",
    "    for key in case.keys():\n",
    "        files[i] = files[i].replace(key, case[key])"
   ]
  },
  {
   "cell_type": "code",
   "execution_count": null,
   "id": "cc3768c3",
   "metadata": {},
   "outputs": [],
   "source": [
    "class RNN(nn.Module):\n",
    "    def __init__(self, input_size, hidden_size, num_layers, output_size):\n",
    "        super(RNN, self).__init__()\n",
    "        self.hidden_size = hidden_size\n",
    "        self.num_layers = num_layers\n",
    "\n",
    "        self.embed = nn.Embedding(input_size, hidden_size)\n",
    "        self.lstm = nn.LSTM(hidden_size, hidden_size, num_layers, batch_first=True)\n",
    "        self.dropout = nn.Dropout(p=0.2)\n",
    "        self.fc = nn.Linear(hidden_size, output_size)\n",
    "\n",
    "    def forward(self, x, hidden, cell):\n",
    "        out = self.embed(x)\n",
    "        out, (hidden, cell) = self.lstm(out.unsqueeze(1), (hidden, cell))\n",
    "        out = self.fc(self.dropout(out.reshape(out.shape[0], -1)))\n",
    "        return out, (hidden, cell)\n",
    "\n",
    "    def init_hidden(self, batch_size):\n",
    "        hidden = torch.zeros(self.num_layers, batch_size, self.hidden_size).to(device)\n",
    "        cell = torch.zeros(self.num_layers, batch_size, self.hidden_size).to(device)\n",
    "        return hidden, cell"
   ]
  },
  {
   "cell_type": "code",
   "execution_count": null,
   "id": "ee883c23",
   "metadata": {},
   "outputs": [],
   "source": [
    "class Generator:\n",
    "    def __init__(self):\n",
    "        self.num_files = num_files\n",
    "        self.print_every = 10\n",
    "        self.batch_size = 1\n",
    "        \n",
    "    def char_tensor(self, string):\n",
    "        tensor = torch.zeros(len(string)).long()\n",
    "        for c in range(len(string)):\n",
    "            tensor[c] = all_characters.index(string[c])\n",
    "        return tensor\n",
    "\n",
    "    def get_batch(self, idx):\n",
    "        text_str = files[idx]\n",
    "        Len = len(text_str)\n",
    "        text_input = torch.zeros(self.batch_size, Len)\n",
    "        text_target = torch.zeros(self.batch_size, Len)\n",
    "\n",
    "        for i in range(self.batch_size):\n",
    "            text_input[i, 0:Len-1] = self.char_tensor(text_str[:-1])\n",
    "            text_target[i, 0:Len-1] = self.char_tensor(text_str[1:])\n",
    "            text_input[i, -1] = self.char_tensor('&')\n",
    "            text_target[i, -1] = self.char_tensor('&')\n",
    "\n",
    "        return text_input.long(), text_target.long(), Len\n",
    "\n",
    "    def generate(self, rnn, initial_str=\"И\", max_lengh = 1000, temperature=0.9):\n",
    "        hidden, cell = rnn.init_hidden(batch_size=self.batch_size)\n",
    "        initial_input = self.char_tensor(initial_str)\n",
    "        predicted = [initial_str]\n",
    "\n",
    "        for p in range(len(initial_str) - 1):\n",
    "            _, (hidden, cell) = rnn(\n",
    "                initial_input[p].view(1).to(device), hidden, cell\n",
    "            )\n",
    "\n",
    "        last_char = initial_input[-1]\n",
    "        i = 0\n",
    "        \n",
    "        with torch.no_grad(): \n",
    "            while last_char != 0 and i <= max_lengh:\n",
    "                output, (hidden, cell) = rnn(\n",
    "                    last_char.view(1).to(device), hidden, cell\n",
    "                )\n",
    "                output_dist = output.data.view(-1).div(temperature).exp()\n",
    "                top_char = torch.multinomial(output_dist, 1)[0]\n",
    "                predicted_char = all_characters[top_char]\n",
    "                predicted.append(predicted_char)\n",
    "                last_char = self.char_tensor(predicted_char)\n",
    "                i += 1\n",
    "\n",
    "        return ''.join(x for x in predicted[:-1])\n",
    "\n",
    "\n",
    "    def train(self, rnn, optimizer, criterion, num_epochs):\n",
    "        writer = SummaryWriter(f\"runs/names0\")\n",
    "\n",
    "        print(\"=> Starting training\")\n",
    "\n",
    "        for epoch in range(1, num_epochs + 1):\n",
    "            run_loss = 0\n",
    "            for idx in range(self.num_files):\n",
    "                inp, target, chunk_len = self.get_batch(idx)\n",
    "                hidden, cell = rnn.init_hidden(batch_size=self.batch_size)\n",
    "\n",
    "                rnn.zero_grad()\n",
    "                loss = 0\n",
    "                inp = inp.to(device)\n",
    "                target = target.to(device)\n",
    "\n",
    "                for c in range(chunk_len):\n",
    "                    output, (hidden, cell) = rnn(inp[:, c], hidden, cell)\n",
    "                    loss += criterion(output, target[:, c])\n",
    "\n",
    "                loss.backward()\n",
    "                optimizer.step()\n",
    "                run_loss += loss.item() / chunk_len\n",
    "\n",
    "            loss = loss / num_files\n",
    "            print(f\"Loss: {loss}\")\n",
    "            \n",
    "            if epoch % self.print_every == 0:\n",
    "                rnn.eval()\n",
    "                print(self.generate(rnn))\n",
    "                rnn.train()\n",
    "            \n",
    "            writer.add_scalar(\"Training loss\", loss, global_step=epoch)"
   ]
  },
  {
   "cell_type": "code",
   "execution_count": null,
   "id": "e98bd752",
   "metadata": {},
   "outputs": [],
   "source": [
    "def save_checkpoint(model, optimizer, filename=\"my_checkpoint.pth.tar\"):\n",
    "    print(\"=> Saving checkpoint\")\n",
    "    checkpoint = {\n",
    "        \"state_dict\": model.state_dict(),\n",
    "        \"optimizer\": optimizer.state_dict(),\n",
    "    }\n",
    "    torch.save(checkpoint, filename)\n",
    "\n",
    "\n",
    "def load_checkpoint(checkpoint_file, model, optimizer, lr):\n",
    "    print(\"=> Loading checkpoint\")\n",
    "    checkpoint = torch.load(checkpoint_file, map_location=device)\n",
    "    model.load_state_dict(checkpoint[\"state_dict\"])\n",
    "    optimizer.load_state_dict(checkpoint[\"optimizer\"])\n",
    "\n",
    "    for param_group in optimizer.param_groups:\n",
    "        param_group[\"lr\"] = lr\n",
    "        param_group['capturable'] = True"
   ]
  },
  {
   "cell_type": "code",
   "execution_count": null,
   "id": "2611af71",
   "metadata": {
    "scrolled": true
   },
   "outputs": [],
   "source": [
    "num_epochs = 100\n",
    "hidden_size = 64\n",
    "num_layers = 2\n",
    "lr = 0.001\n",
    "\n",
    "rnn = RNN(n_characters, hidden_size, num_layers, n_characters).to(device)\n",
    "\n",
    "optimizer = torch.optim.Adam(rnn.parameters(), lr=lr)\n",
    "criterion = nn.CrossEntropyLoss()\n",
    "load_checkpoint('data/RNN.pth', rnn, optimizer, lr=0.001)"
   ]
  },
  {
   "cell_type": "code",
   "execution_count": null,
   "id": "9ec2c885",
   "metadata": {
    "scrolled": false
   },
   "outputs": [],
   "source": [
    "rnn.train()\n",
    "gen = Generator()\n",
    "gen.train(rnn, optimizer, criterion, num_epochs)"
   ]
  },
  {
   "cell_type": "code",
   "execution_count": null,
   "id": "e854514b",
   "metadata": {},
   "outputs": [],
   "source": [
    "save_checkpoint(rnn, optimizer, filename='data/RNN.pth')"
   ]
  },
  {
   "cell_type": "code",
   "execution_count": null,
   "id": "e68e2f3c",
   "metadata": {
    "scrolled": false
   },
   "outputs": [],
   "source": [
    "rnn.eval()\n",
    "gen = Generator()\n",
    "print(gen.generate(rnn))"
   ]
  },
  {
   "cell_type": "code",
   "execution_count": null,
   "id": "5acb5919",
   "metadata": {},
   "outputs": [],
   "source": []
  }
 ],
 "metadata": {
  "kernelspec": {
   "display_name": "Python 3 (ipykernel)",
   "language": "python",
   "name": "python3"
  },
  "language_info": {
   "codemirror_mode": {
    "name": "ipython",
    "version": 3
   },
   "file_extension": ".py",
   "mimetype": "text/x-python",
   "name": "python",
   "nbconvert_exporter": "python",
   "pygments_lexer": "ipython3",
   "version": "3.9.12"
  }
 },
 "nbformat": 4,
 "nbformat_minor": 5
}
