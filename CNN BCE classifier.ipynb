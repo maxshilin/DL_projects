{
 "cells": [
  {
   "cell_type": "code",
   "execution_count": 1,
   "id": "d2b14929",
   "metadata": {},
   "outputs": [],
   "source": [
    "import os\n",
    "import torch\n",
    "from torch import nn\n",
    "from torch.utils.data import Dataset, DataLoader\n",
    "import torchvision\n",
    "import torchvision.models as models\n",
    "import torchvision.transforms as transforms\n",
    "from torchinfo import summary\n",
    "from PIL import Image, ImageFile\n",
    "ImageFile.LOAD_TRUNCATED_IMAGES = True"
   ]
  },
  {
   "cell_type": "code",
   "execution_count": null,
   "id": "add5980f",
   "metadata": {},
   "outputs": [],
   "source": [
    "device = torch.device('cuda' if torch.cuda.is_available() else 'cpu')\n",
    "print(\"Using {} device\".format(device))"
   ]
  },
  {
   "cell_type": "code",
   "execution_count": null,
   "id": "ef3874eb",
   "metadata": {
    "scrolled": true
   },
   "outputs": [],
   "source": [
    "class CustomModel(nn.Module):\n",
    "    def __init__(self, num_classes, use_pretrained=False):\n",
    "        super(CustomModel, self).__init__()\n",
    "        self.res = models.efficientnet_v2_s(pretrained=use_pretrained)\n",
    "        num_ftrs = self.res.classifier[1].in_features\n",
    "        self.res.classifier[1] = nn.Linear(num_ftrs, num_classes)\n",
    "        \n",
    "    def forward(self, x):\n",
    "        x = torch.sigmoid(self.res(x))\n",
    "        return x\n",
    "\n",
    "\n",
    "num_classes = 28\n",
    "net = CustomModel(num_classes).to(device)\n",
    "\n",
    "net.load_state_dict(torch.load('data/effnet_s_BCE.pth')[\"state_dict\"])\n",
    "net.eval()"
   ]
  },
  {
   "cell_type": "code",
   "execution_count": null,
   "id": "8cb38102",
   "metadata": {},
   "outputs": [],
   "source": [
    "size = 480\n",
    "Transform = transforms.Compose([\n",
    "    transforms.Resize((size, size)),\n",
    "    transforms.ToTensor(),\n",
    "    transforms.Normalize(mean=[0.485, 0.456, 0.406], std=[0.229, 0.224, 0.225])])\n",
    "\n",
    "path = r'D:\\photo tta'\n",
    "\n",
    "List = ['Amber', 'Ayaka', 'Barbara', 'Beidou', 'Eula', 'Fishl', 'Ganyu', 'Hu Tao', \n",
    "        'Jean', 'Keqing', 'Kokomi', 'Kuki Shinobu', 'Lisa', 'Lumine', 'Mona', \n",
    "        'Ninguang', 'Noelle', 'Raiden', 'Rosaria', 'Sara', 'Shenhe', 'Sucrose', \n",
    "        'Xiangling', 'Yae', 'Yanfei', 'Yelan', 'Yoimiya', 'Yun Jin']\n",
    "\n",
    "for im in os.listdir(path):\n",
    "    with torch.no_grad():\n",
    "        try:\n",
    "            image = Image.open(os.path.join(path, im)).convert('RGB')\n",
    "            T = Transform(image)\n",
    "            T = T[None, :, :, :].to(device)\n",
    "            x = net(T)\n",
    "            x = torch.topk(x, 3)\n",
    "            values = x.values[0, :].to('cpu')\n",
    "            indices = x.indices[0, :].to('cpu')\n",
    "            dirs = []\n",
    "\n",
    "            if values[0].item()/1.5 > values[1].item():\n",
    "                dirs.append(indices[0].item())\n",
    "            else:\n",
    "                if values[0].item()/1.5 > values[2].item():\n",
    "                    dirs.append(indices[0].item())\n",
    "                    dirs.append(indices[1].item())\n",
    "                else:\n",
    "                    dirs.append(indices[0].item())\n",
    "                    dirs.append(indices[1].item())\n",
    "                    dirs.append(indices[2].item())\n",
    "\n",
    "            dirs.sort()\n",
    "            newdir = ''\n",
    "            for i in dirs:\n",
    "                newdir = f'{newdir} {List[i]}'\n",
    "            newdir = os.path.join(path, newdir[1:])\n",
    "            if not os.path.isdir(newdir):\n",
    "                os.mkdir(newdir)\n",
    "            os.rename(os.path.join(path, im), os.path.join(newdir, im))\n",
    "        except: t = 0"
   ]
  },
  {
   "cell_type": "code",
   "execution_count": null,
   "id": "b47d4c9f",
   "metadata": {},
   "outputs": [],
   "source": []
  }
 ],
 "metadata": {
  "kernelspec": {
   "display_name": "Python 3 (ipykernel)",
   "language": "python",
   "name": "python3"
  },
  "language_info": {
   "codemirror_mode": {
    "name": "ipython",
    "version": 3
   },
   "file_extension": ".py",
   "mimetype": "text/x-python",
   "name": "python",
   "nbconvert_exporter": "python",
   "pygments_lexer": "ipython3",
   "version": "3.9.12"
  }
 },
 "nbformat": 4,
 "nbformat_minor": 5
}
